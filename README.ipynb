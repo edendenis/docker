{
 "cells": [
  {
   "cell_type": "markdown",
   "metadata": {},
   "source": [
    "# Como configurar/instalar/usar o `docker` no `Linux Ubuntu`\n",
    "\n",
    "## Resumo\n",
    "\n",
    "Neste documento estão contidos os principais comandos e configurações para configurar/instalar/usar o `docker` no `Linux Ubuntu`.\n",
    "\n",
    "## _Abstract_\n",
    "\n",
    "_This document contains the main commands and settings for configuring/installing/using the `docker` on `Linux Ubuntu`._\n"
   ]
  },
  {
   "cell_type": "markdown",
   "metadata": {},
   "source": [
    "## Descrição [2]\n",
    "\n",
    "### `docker`\n",
    "\n",
    "`Docker` é uma plataforma de código aberto que simplifica o processo de criação, implantação e execução de aplicativos em contêineres. Os contêineres permitem empacotar um aplicativo juntamente com suas dependências em uma unidade isolada, garantindo que ele seja executado de maneira consistente em qualquer ambiente. Com o `Docker`, os desenvolvedores podem criar ambientes de desenvolvimento replicáveis, implementar aplicativos de forma rápida e eficiente, e dimensionar facilmente aplicativos em ambientes de produção. Ele oferece uma maneira flexível e leve de encapsular aplicativos, facilitando a distribuição e a escalabilidade.\n"
   ]
  },
  {
   "cell_type": "markdown",
   "metadata": {},
   "source": [
    "## 1. Como configurar/instalar/usar o `docker` no `Linux Ubuntu` [1][3]\n",
    "\n",
    "Para configurar/instalar/usar o `docker` no `Linux Ubuntu`, você pode seguir estes passos:\n",
    "\n",
    "1. Abra o `Terminal Emulator`. Você pode fazer isso pressionando: `Ctrl + Alt + T`"
   ]
  },
  {
   "cell_type": "markdown",
   "metadata": {},
   "source": [
    "2. Certifique-se de que seu sistema esteja limpo e atualizado.\n",
    "\n",
    "    2.1 Limpar o `cache` do gerenciador de pacotes `apt`. Especificamente, ele remove todos os arquivos de pacotes (`.deb`) baixados pelo `apt` e armazenados em `/var/cache/apt/archives/`. Digite o seguinte comando: `sudo apt clean` \n",
    "    \n",
    "    2.2 Remover pacotes `.deb` antigos ou duplicados do cache local. É útil para liberar espaço, pois remove apenas os pacotes que não podem mais ser baixados (ou seja, versões antigas de pacotes que foram atualizados). Digite o seguinte comando: `sudo apt autoclean`\n",
    "\n",
    "    2.3 Remover pacotes que foram automaticamente instalados para satisfazer as dependências de outros pacotes e que não são mais necessários. Digite o seguinte comando: `sudo apt autoremove -y`\n",
    "\n",
    "    2.4 Buscar as atualizações disponíveis para os pacotes que estão instalados em seu sistema. Digite o seguinte comando e pressione `Enter`: `sudo apt update`\n",
    "\n",
    "    2.5 **Corrigir pacotes quebrados**: Isso atualizará a lista de pacotes disponíveis e tentará corrigir pacotes quebrados ou com dependências ausentes: `sudo apt --fix-broken install`\n",
    "\n",
    "    2.6 Limpar o `cache` do gerenciador de pacotes `apt`. Especificamente, ele remove todos os arquivos de pacotes (`.deb`) baixados pelo `apt` e armazenados em `/var/cache/apt/archives/`. Digite o seguinte comando: `sudo apt clean` \n",
    "    \n",
    "    2.7 Para ver a lista de pacotes a serem atualizados, digite o seguinte comando e pressione `Enter`:  `sudo apt list --upgradable`\n",
    "\n",
    "    2.8 Realmente atualizar os pacotes instalados para as suas versões mais recentes, com base na última vez que você executou `sudo apt update`. Digite o seguinte comando e pressione `Enter`: `sudo apt full-upgrade -y`\n",
    "    "
   ]
  },
  {
   "cell_type": "markdown",
   "metadata": {},
   "source": [
    "Para instalar o `Docker` no `Linux Ubuntu 22.04 LTS` através do `Terminal Emulator`, você pode seguir os passos abaixo. Esse processo instala a versão mais recente do `Docker Engine` disponível para `Ubuntu 22.04`.\n",
    "\n",
    "1. **Instale os pacotes necessários para permitir que o `apt` use um repositório sobre HTTPS:** \n",
    "\n",
    "    ```\n",
    "    sudo apt install \\\n",
    "        ca-certificates \\\n",
    "        curl \\\n",
    "        gnupg \\\n",
    "        lsb-release -y\n",
    "    ```\n",
    "2. **Adicione a chave GPG oficial do `Docker`:**  `curl -fsSL https://download.docker.com/linux/ubuntu/gpg | sudo gpg --dearmor -o /usr/share/keyrings/docker-archive-keyring.gpg`\n",
    "\n",
    "3. **Use o comando a seguir para configurar o repositório do `Docker`:**\n",
    "\n",
    "    ```\n",
    "    echo \\\n",
    "        \"deb [arch=amd64 signed-by=/usr/share/keyrings/docker-archive-keyring.gpg] https://download.docker.com/linux/ubuntu \\\n",
    "        $(lsb_release -cs) stable\" | sudo tee /etc/apt/sources.list.d/docker.list > /dev/null\n",
    "    ```\n",
    "\n",
    "4. **Atualize o índice de pacotes do `apt` novamente:** `sudo apt update -y`\n",
    "\n",
    "5. **Instale o `Docker Engine`, CLI do `Docker`, e `Containerd`:** `sudo apt install docker-ce docker-ce-cli containerd.io -y`\n",
    "\n",
    "6. **Para garantir que o `Docker` seja iniciado automaticamente na inicialização do sistema, execute:** `sudo systemctl enable docker`\n",
    "\n",
    "7. **Para verificar se o `Docker` foi instalado corretamente e está funcionando, rode:** `sudo docker run hello-world`\n",
    "\n",
    "    Este comando baixa uma imagem de teste e executa um container utilizando essa imagem. Se o container rodar com sucesso, isso indica que a instalação do `Docker` foi bem-sucedida.\n",
    "\n",
    "**Nota Importante:**\n",
    "\n",
    "- **Executar o `Docker` como usuário não-`root`:** Por padrão, o comando `Docker` precisa ser executado com `sudo`. Para executar o `Docker` como um usuário não-`root`, você precisa adicionar seu usuário ao grupo `docker` com o comando: `sudo usermod -aG docker $USER`\n",
    "\n",
    "    Após isso, faça logout e login novamente para que as alterações tenham efeito.\n",
    "\n",
    "Siga esses passos para instalar o Docker no `Ubuntu 22.04 LTS` usando o `Terminal Emulator`."
   ]
  },
  {
   "cell_type": "markdown",
   "metadata": {
    "vscode": {
     "languageId": "plaintext"
    }
   },
   "source": [
    "### 1.1 Código completo para configurar/instalar/usar\n",
    "\n",
    "Para configurar/instalar/usar o `docker` no `Linux Ubuntu` sem precisar digitar linha por linha, você pode seguir estas etapas:\n",
    "\n",
    "1. Abra o terminal. Você pode fazer isso pressionando: `Ctrl + Alt + T`\n",
    "\n",
    "2. Digite o seguinte comando e pressione `Enter`:\n",
    "\n",
    "    ```\n",
    "    sudo apt clean                                                            \n",
    "    sudo apt autoclean\n",
    "    sudo apt autoremove -y\n",
    "    sudo apt update\n",
    "    sudo apt --fix-broken install\n",
    "    sudo apt clean\n",
    "    sudo apt list --upgradable\n",
    "    sudo apt full-upgrade -y\n",
    "    sudo apt install \\\n",
    "        ca-certificates \\\n",
    "        curl \\\n",
    "        gnupg \\\n",
    "        lsb-release -y\n",
    "    curl -fsSL https://download.docker.com/linux/ubuntu/gpg | sudo gpg --dearmor -o /usr/share/keyrings/docker-archive-keyring.gpg\n",
    "    echo \\\n",
    "        \"deb [arch=amd64 signed-by=/usr/share/keyrings/docker-archive-keyring.gpg] https://download.docker.com/linux/ubuntu \\\n",
    "        $(lsb_release -cs) stable\" | sudo tee /etc/apt/sources.list.d/docker.list > /dev/null\n",
    "\n",
    "    sudo apt update -y\n",
    "    sudo apt install docker-ce docker-ce-cli containerd.io -y\n",
    "    sudo systemctl enable docker\n",
    "    sudo docker run hello-world\n",
    "    sudo usermod -aG docker $USER\n",
    "    ```\n"
   ]
  },
  {
   "cell_type": "markdown",
   "metadata": {
    "vscode": {
     "languageId": "plaintext"
    }
   },
   "source": [
    "## Referências\n",
    "\n",
    "[1] OPENAI. ***Instale Docker no Ubuntu.*** Disponível em: <https://chat.openai.com/c/96806087-1b85-4f30-96b4-88a2a0f00f1a> (texto adaptado). Acessado em: 05/04/2023 17:11.\n",
    "\n",
    "[2] OPENAI. ***Vs code: editor popular.*** Disponível em: <https://chat.openai.com/c/b640a25d-f8e3-4922-8a3b-ed74a2657e42> (texto adaptado). Acessado em: 05/04/2024 17:10.\n"
   ]
  }
 ],
 "metadata": {
  "kernelspec": {
   "display_name": "Python 3",
   "language": "python",
   "name": "python3"
  },
  "language_info": {
   "codemirror_mode": {
    "name": "ipython",
    "version": 3
   },
   "file_extension": ".py",
   "mimetype": "text/x-python",
   "name": "python",
   "nbconvert_exporter": "python",
   "pygments_lexer": "ipython3",
   "version": "3.11.8"
  },
  "orig_nbformat": 4
 },
 "nbformat": 4,
 "nbformat_minor": 2
}
